{
 "cells": [
  {
   "cell_type": "code",
   "execution_count": 53,
   "id": "4bb7097c",
   "metadata": {},
   "outputs": [],
   "source": [
    "import pandas as pd\n",
    "import pprint\n",
    "from typing import Dict, Text\n",
    "\n",
    "import numpy as np\n",
    "import tensorflow as tf\n",
    "import tensorflow_recommenders as tfrs"
   ]
  },
  {
   "cell_type": "code",
   "execution_count": 2,
   "id": "6ef2564d",
   "metadata": {},
   "outputs": [
    {
     "data": {
      "text/html": [
       "<div>\n",
       "<style scoped>\n",
       "    .dataframe tbody tr th:only-of-type {\n",
       "        vertical-align: middle;\n",
       "    }\n",
       "\n",
       "    .dataframe tbody tr th {\n",
       "        vertical-align: top;\n",
       "    }\n",
       "\n",
       "    .dataframe thead th {\n",
       "        text-align: right;\n",
       "    }\n",
       "</style>\n",
       "<table border=\"1\" class=\"dataframe\">\n",
       "  <thead>\n",
       "    <tr style=\"text-align: right;\">\n",
       "      <th></th>\n",
       "      <th>userId</th>\n",
       "      <th>venueId</th>\n",
       "      <th>venueCategoryId</th>\n",
       "      <th>venueCategory</th>\n",
       "      <th>latitude</th>\n",
       "      <th>longitude</th>\n",
       "      <th>timezoneOffset</th>\n",
       "      <th>utcTimestamp</th>\n",
       "    </tr>\n",
       "  </thead>\n",
       "  <tbody>\n",
       "    <tr>\n",
       "      <th>0</th>\n",
       "      <td>470</td>\n",
       "      <td>49bbd6c0f964a520f4531fe3</td>\n",
       "      <td>4bf58dd8d48988d127951735</td>\n",
       "      <td>Arts &amp; Crafts Store</td>\n",
       "      <td>40.719810</td>\n",
       "      <td>-74.002581</td>\n",
       "      <td>-240</td>\n",
       "      <td>Tue Apr 03 18:00:09 +0000 2012</td>\n",
       "    </tr>\n",
       "    <tr>\n",
       "      <th>1</th>\n",
       "      <td>979</td>\n",
       "      <td>4a43c0aef964a520c6a61fe3</td>\n",
       "      <td>4bf58dd8d48988d1df941735</td>\n",
       "      <td>Bridge</td>\n",
       "      <td>40.606800</td>\n",
       "      <td>-74.044170</td>\n",
       "      <td>-240</td>\n",
       "      <td>Tue Apr 03 18:00:25 +0000 2012</td>\n",
       "    </tr>\n",
       "    <tr>\n",
       "      <th>2</th>\n",
       "      <td>69</td>\n",
       "      <td>4c5cc7b485a1e21e00d35711</td>\n",
       "      <td>4bf58dd8d48988d103941735</td>\n",
       "      <td>Home (private)</td>\n",
       "      <td>40.716162</td>\n",
       "      <td>-73.883070</td>\n",
       "      <td>-240</td>\n",
       "      <td>Tue Apr 03 18:02:24 +0000 2012</td>\n",
       "    </tr>\n",
       "    <tr>\n",
       "      <th>3</th>\n",
       "      <td>395</td>\n",
       "      <td>4bc7086715a7ef3bef9878da</td>\n",
       "      <td>4bf58dd8d48988d104941735</td>\n",
       "      <td>Medical Center</td>\n",
       "      <td>40.745164</td>\n",
       "      <td>-73.982519</td>\n",
       "      <td>-240</td>\n",
       "      <td>Tue Apr 03 18:02:41 +0000 2012</td>\n",
       "    </tr>\n",
       "    <tr>\n",
       "      <th>4</th>\n",
       "      <td>87</td>\n",
       "      <td>4cf2c5321d18a143951b5cec</td>\n",
       "      <td>4bf58dd8d48988d1cb941735</td>\n",
       "      <td>Food Truck</td>\n",
       "      <td>40.740104</td>\n",
       "      <td>-73.989658</td>\n",
       "      <td>-240</td>\n",
       "      <td>Tue Apr 03 18:03:00 +0000 2012</td>\n",
       "    </tr>\n",
       "  </tbody>\n",
       "</table>\n",
       "</div>"
      ],
      "text/plain": [
       "   userId                   venueId           venueCategoryId  \\\n",
       "0     470  49bbd6c0f964a520f4531fe3  4bf58dd8d48988d127951735   \n",
       "1     979  4a43c0aef964a520c6a61fe3  4bf58dd8d48988d1df941735   \n",
       "2      69  4c5cc7b485a1e21e00d35711  4bf58dd8d48988d103941735   \n",
       "3     395  4bc7086715a7ef3bef9878da  4bf58dd8d48988d104941735   \n",
       "4      87  4cf2c5321d18a143951b5cec  4bf58dd8d48988d1cb941735   \n",
       "\n",
       "         venueCategory   latitude  longitude  timezoneOffset  \\\n",
       "0  Arts & Crafts Store  40.719810 -74.002581            -240   \n",
       "1               Bridge  40.606800 -74.044170            -240   \n",
       "2       Home (private)  40.716162 -73.883070            -240   \n",
       "3       Medical Center  40.745164 -73.982519            -240   \n",
       "4           Food Truck  40.740104 -73.989658            -240   \n",
       "\n",
       "                     utcTimestamp  \n",
       "0  Tue Apr 03 18:00:09 +0000 2012  \n",
       "1  Tue Apr 03 18:00:25 +0000 2012  \n",
       "2  Tue Apr 03 18:02:24 +0000 2012  \n",
       "3  Tue Apr 03 18:02:41 +0000 2012  \n",
       "4  Tue Apr 03 18:03:00 +0000 2012  "
      ]
     },
     "execution_count": 2,
     "metadata": {},
     "output_type": "execute_result"
    }
   ],
   "source": [
    "data = pd.read_csv(\"../data/dataset_TSMC2014_NYC.csv\")\n",
    "data.head()"
   ]
  },
  {
   "cell_type": "code",
   "execution_count": 3,
   "id": "6c91b636",
   "metadata": {},
   "outputs": [
    {
     "data": {
      "text/html": [
       "<div>\n",
       "<style scoped>\n",
       "    .dataframe tbody tr th:only-of-type {\n",
       "        vertical-align: middle;\n",
       "    }\n",
       "\n",
       "    .dataframe tbody tr th {\n",
       "        vertical-align: top;\n",
       "    }\n",
       "\n",
       "    .dataframe thead th {\n",
       "        text-align: right;\n",
       "    }\n",
       "</style>\n",
       "<table border=\"1\" class=\"dataframe\">\n",
       "  <thead>\n",
       "    <tr style=\"text-align: right;\">\n",
       "      <th></th>\n",
       "      <th>userId</th>\n",
       "      <th>venueId</th>\n",
       "    </tr>\n",
       "  </thead>\n",
       "  <tbody>\n",
       "    <tr>\n",
       "      <th>0</th>\n",
       "      <td>470</td>\n",
       "      <td>49bbd6c0f964a520f4531fe3</td>\n",
       "    </tr>\n",
       "    <tr>\n",
       "      <th>1</th>\n",
       "      <td>979</td>\n",
       "      <td>4a43c0aef964a520c6a61fe3</td>\n",
       "    </tr>\n",
       "    <tr>\n",
       "      <th>2</th>\n",
       "      <td>69</td>\n",
       "      <td>4c5cc7b485a1e21e00d35711</td>\n",
       "    </tr>\n",
       "    <tr>\n",
       "      <th>3</th>\n",
       "      <td>395</td>\n",
       "      <td>4bc7086715a7ef3bef9878da</td>\n",
       "    </tr>\n",
       "    <tr>\n",
       "      <th>4</th>\n",
       "      <td>87</td>\n",
       "      <td>4cf2c5321d18a143951b5cec</td>\n",
       "    </tr>\n",
       "  </tbody>\n",
       "</table>\n",
       "</div>"
      ],
      "text/plain": [
       "   userId                   venueId\n",
       "0     470  49bbd6c0f964a520f4531fe3\n",
       "1     979  4a43c0aef964a520c6a61fe3\n",
       "2      69  4c5cc7b485a1e21e00d35711\n",
       "3     395  4bc7086715a7ef3bef9878da\n",
       "4      87  4cf2c5321d18a143951b5cec"
      ]
     },
     "execution_count": 3,
     "metadata": {},
     "output_type": "execute_result"
    }
   ],
   "source": [
    "df = data[['userId', 'venueId']]\n",
    "df.head()"
   ]
  },
  {
   "cell_type": "code",
   "execution_count": 4,
   "id": "d618fff4",
   "metadata": {},
   "outputs": [
    {
     "data": {
      "text/html": [
       "<div>\n",
       "<style scoped>\n",
       "    .dataframe tbody tr th:only-of-type {\n",
       "        vertical-align: middle;\n",
       "    }\n",
       "\n",
       "    .dataframe tbody tr th {\n",
       "        vertical-align: top;\n",
       "    }\n",
       "\n",
       "    .dataframe thead th {\n",
       "        text-align: right;\n",
       "    }\n",
       "</style>\n",
       "<table border=\"1\" class=\"dataframe\">\n",
       "  <thead>\n",
       "    <tr style=\"text-align: right;\">\n",
       "      <th></th>\n",
       "      <th>userId</th>\n",
       "      <th>venueId</th>\n",
       "      <th>user_checkin_count</th>\n",
       "    </tr>\n",
       "  </thead>\n",
       "  <tbody>\n",
       "    <tr>\n",
       "      <th>0</th>\n",
       "      <td>1</td>\n",
       "      <td>3fd66200f964a52035e81ee3</td>\n",
       "      <td>1</td>\n",
       "    </tr>\n",
       "    <tr>\n",
       "      <th>1</th>\n",
       "      <td>1</td>\n",
       "      <td>3fd66200f964a52048e31ee3</td>\n",
       "      <td>1</td>\n",
       "    </tr>\n",
       "    <tr>\n",
       "      <th>2</th>\n",
       "      <td>1</td>\n",
       "      <td>3fd66200f964a52048e81ee3</td>\n",
       "      <td>1</td>\n",
       "    </tr>\n",
       "    <tr>\n",
       "      <th>3</th>\n",
       "      <td>1</td>\n",
       "      <td>3fd66200f964a52074e71ee3</td>\n",
       "      <td>1</td>\n",
       "    </tr>\n",
       "    <tr>\n",
       "      <th>4</th>\n",
       "      <td>1</td>\n",
       "      <td>3fd66200f964a52075ea1ee3</td>\n",
       "      <td>1</td>\n",
       "    </tr>\n",
       "    <tr>\n",
       "      <th>...</th>\n",
       "      <td>...</td>\n",
       "      <td>...</td>\n",
       "      <td>...</td>\n",
       "    </tr>\n",
       "    <tr>\n",
       "      <th>91019</th>\n",
       "      <td>1083</td>\n",
       "      <td>4f19b2bbe4b0808f62845026</td>\n",
       "      <td>3</td>\n",
       "    </tr>\n",
       "    <tr>\n",
       "      <th>91020</th>\n",
       "      <td>1083</td>\n",
       "      <td>4f2a6d55e4b04e33ba6416f9</td>\n",
       "      <td>1</td>\n",
       "    </tr>\n",
       "    <tr>\n",
       "      <th>91021</th>\n",
       "      <td>1083</td>\n",
       "      <td>4f34533f754a657ca23ac8d7</td>\n",
       "      <td>1</td>\n",
       "    </tr>\n",
       "    <tr>\n",
       "      <th>91022</th>\n",
       "      <td>1083</td>\n",
       "      <td>4f7eff09e4b02164d9a1a52c</td>\n",
       "      <td>2</td>\n",
       "    </tr>\n",
       "    <tr>\n",
       "      <th>91023</th>\n",
       "      <td>1083</td>\n",
       "      <td>51140198e4b0874a568cde81</td>\n",
       "      <td>1</td>\n",
       "    </tr>\n",
       "  </tbody>\n",
       "</table>\n",
       "<p>91024 rows × 3 columns</p>\n",
       "</div>"
      ],
      "text/plain": [
       "       userId                   venueId  user_checkin_count\n",
       "0           1  3fd66200f964a52035e81ee3                   1\n",
       "1           1  3fd66200f964a52048e31ee3                   1\n",
       "2           1  3fd66200f964a52048e81ee3                   1\n",
       "3           1  3fd66200f964a52074e71ee3                   1\n",
       "4           1  3fd66200f964a52075ea1ee3                   1\n",
       "...       ...                       ...                 ...\n",
       "91019    1083  4f19b2bbe4b0808f62845026                   3\n",
       "91020    1083  4f2a6d55e4b04e33ba6416f9                   1\n",
       "91021    1083  4f34533f754a657ca23ac8d7                   1\n",
       "91022    1083  4f7eff09e4b02164d9a1a52c                   2\n",
       "91023    1083  51140198e4b0874a568cde81                   1\n",
       "\n",
       "[91024 rows x 3 columns]"
      ]
     },
     "execution_count": 4,
     "metadata": {},
     "output_type": "execute_result"
    }
   ],
   "source": [
    "df2 = df.groupby([\"userId\", \"venueId\"])[\"userId\"].count().reset_index(name=\"user_checkin_count\")\n",
    "df2"
   ]
  },
  {
   "cell_type": "code",
   "execution_count": null,
   "id": "a0d2a5ad",
   "metadata": {},
   "outputs": [],
   "source": [
    "df2.loc[(df2[\"userId\"]==1) & (df2[\"venueId\"]==\"4f3283f0e4b057434d8fdc81\")]"
   ]
  },
  {
   "cell_type": "code",
   "execution_count": null,
   "id": "8490cfaf",
   "metadata": {},
   "outputs": [],
   "source": [
    "df2.loc[(df2[\"user_checkin_count\"]==257)]"
   ]
  },
  {
   "cell_type": "code",
   "execution_count": 5,
   "id": "f5d65341",
   "metadata": {},
   "outputs": [],
   "source": [
    "def normalize(df, col_name):\n",
    "    result = df.copy()\n",
    "    max_value = df[col_name].max()\n",
    "    min_value = df[col_name].min()\n",
    "    result[col_name] = (df[col_name] - min_value) / (max_value - min_value)\n",
    "    return result"
   ]
  },
  {
   "cell_type": "code",
   "execution_count": 6,
   "id": "940d0552",
   "metadata": {},
   "outputs": [
    {
     "data": {
      "text/html": [
       "<div>\n",
       "<style scoped>\n",
       "    .dataframe tbody tr th:only-of-type {\n",
       "        vertical-align: middle;\n",
       "    }\n",
       "\n",
       "    .dataframe tbody tr th {\n",
       "        vertical-align: top;\n",
       "    }\n",
       "\n",
       "    .dataframe thead th {\n",
       "        text-align: right;\n",
       "    }\n",
       "</style>\n",
       "<table border=\"1\" class=\"dataframe\">\n",
       "  <thead>\n",
       "    <tr style=\"text-align: right;\">\n",
       "      <th></th>\n",
       "      <th>userId</th>\n",
       "      <th>venueId</th>\n",
       "      <th>user_checkin_count</th>\n",
       "    </tr>\n",
       "  </thead>\n",
       "  <tbody>\n",
       "    <tr>\n",
       "      <th>0</th>\n",
       "      <td>1</td>\n",
       "      <td>3fd66200f964a52035e81ee3</td>\n",
       "      <td>0.000000</td>\n",
       "    </tr>\n",
       "    <tr>\n",
       "      <th>1</th>\n",
       "      <td>1</td>\n",
       "      <td>3fd66200f964a52048e31ee3</td>\n",
       "      <td>0.000000</td>\n",
       "    </tr>\n",
       "    <tr>\n",
       "      <th>2</th>\n",
       "      <td>1</td>\n",
       "      <td>3fd66200f964a52048e81ee3</td>\n",
       "      <td>0.000000</td>\n",
       "    </tr>\n",
       "    <tr>\n",
       "      <th>3</th>\n",
       "      <td>1</td>\n",
       "      <td>3fd66200f964a52074e71ee3</td>\n",
       "      <td>0.000000</td>\n",
       "    </tr>\n",
       "    <tr>\n",
       "      <th>4</th>\n",
       "      <td>1</td>\n",
       "      <td>3fd66200f964a52075ea1ee3</td>\n",
       "      <td>0.000000</td>\n",
       "    </tr>\n",
       "    <tr>\n",
       "      <th>...</th>\n",
       "      <td>...</td>\n",
       "      <td>...</td>\n",
       "      <td>...</td>\n",
       "    </tr>\n",
       "    <tr>\n",
       "      <th>91019</th>\n",
       "      <td>1083</td>\n",
       "      <td>4f19b2bbe4b0808f62845026</td>\n",
       "      <td>0.007812</td>\n",
       "    </tr>\n",
       "    <tr>\n",
       "      <th>91020</th>\n",
       "      <td>1083</td>\n",
       "      <td>4f2a6d55e4b04e33ba6416f9</td>\n",
       "      <td>0.000000</td>\n",
       "    </tr>\n",
       "    <tr>\n",
       "      <th>91021</th>\n",
       "      <td>1083</td>\n",
       "      <td>4f34533f754a657ca23ac8d7</td>\n",
       "      <td>0.000000</td>\n",
       "    </tr>\n",
       "    <tr>\n",
       "      <th>91022</th>\n",
       "      <td>1083</td>\n",
       "      <td>4f7eff09e4b02164d9a1a52c</td>\n",
       "      <td>0.003906</td>\n",
       "    </tr>\n",
       "    <tr>\n",
       "      <th>91023</th>\n",
       "      <td>1083</td>\n",
       "      <td>51140198e4b0874a568cde81</td>\n",
       "      <td>0.000000</td>\n",
       "    </tr>\n",
       "  </tbody>\n",
       "</table>\n",
       "<p>91024 rows × 3 columns</p>\n",
       "</div>"
      ],
      "text/plain": [
       "       userId                   venueId  user_checkin_count\n",
       "0           1  3fd66200f964a52035e81ee3            0.000000\n",
       "1           1  3fd66200f964a52048e31ee3            0.000000\n",
       "2           1  3fd66200f964a52048e81ee3            0.000000\n",
       "3           1  3fd66200f964a52074e71ee3            0.000000\n",
       "4           1  3fd66200f964a52075ea1ee3            0.000000\n",
       "...       ...                       ...                 ...\n",
       "91019    1083  4f19b2bbe4b0808f62845026            0.007812\n",
       "91020    1083  4f2a6d55e4b04e33ba6416f9            0.000000\n",
       "91021    1083  4f34533f754a657ca23ac8d7            0.000000\n",
       "91022    1083  4f7eff09e4b02164d9a1a52c            0.003906\n",
       "91023    1083  51140198e4b0874a568cde81            0.000000\n",
       "\n",
       "[91024 rows x 3 columns]"
      ]
     },
     "execution_count": 6,
     "metadata": {},
     "output_type": "execute_result"
    }
   ],
   "source": [
    "df2 = normalize(df2, \"user_checkin_count\")\n",
    "df2"
   ]
  },
  {
   "cell_type": "code",
   "execution_count": 7,
   "id": "57ace12d",
   "metadata": {},
   "outputs": [
    {
     "data": {
      "text/html": [
       "<div>\n",
       "<style scoped>\n",
       "    .dataframe tbody tr th:only-of-type {\n",
       "        vertical-align: middle;\n",
       "    }\n",
       "\n",
       "    .dataframe tbody tr th {\n",
       "        vertical-align: top;\n",
       "    }\n",
       "\n",
       "    .dataframe thead th {\n",
       "        text-align: right;\n",
       "    }\n",
       "</style>\n",
       "<table border=\"1\" class=\"dataframe\">\n",
       "  <thead>\n",
       "    <tr style=\"text-align: right;\">\n",
       "      <th></th>\n",
       "      <th>userId</th>\n",
       "      <th>venueId</th>\n",
       "      <th>user_checkin_count</th>\n",
       "    </tr>\n",
       "  </thead>\n",
       "  <tbody>\n",
       "    <tr>\n",
       "      <th>0</th>\n",
       "      <td>1</td>\n",
       "      <td>3fd66200f964a52035e81ee3</td>\n",
       "      <td>0.0</td>\n",
       "    </tr>\n",
       "    <tr>\n",
       "      <th>1</th>\n",
       "      <td>1</td>\n",
       "      <td>3fd66200f964a52048e31ee3</td>\n",
       "      <td>0.0</td>\n",
       "    </tr>\n",
       "    <tr>\n",
       "      <th>2</th>\n",
       "      <td>1</td>\n",
       "      <td>3fd66200f964a52048e81ee3</td>\n",
       "      <td>0.0</td>\n",
       "    </tr>\n",
       "    <tr>\n",
       "      <th>3</th>\n",
       "      <td>1</td>\n",
       "      <td>3fd66200f964a52074e71ee3</td>\n",
       "      <td>0.0</td>\n",
       "    </tr>\n",
       "    <tr>\n",
       "      <th>4</th>\n",
       "      <td>1</td>\n",
       "      <td>3fd66200f964a52075ea1ee3</td>\n",
       "      <td>0.0</td>\n",
       "    </tr>\n",
       "  </tbody>\n",
       "</table>\n",
       "</div>"
      ],
      "text/plain": [
       "  userId                   venueId user_checkin_count\n",
       "0      1  3fd66200f964a52035e81ee3                0.0\n",
       "1      1  3fd66200f964a52048e31ee3                0.0\n",
       "2      1  3fd66200f964a52048e81ee3                0.0\n",
       "3      1  3fd66200f964a52074e71ee3                0.0\n",
       "4      1  3fd66200f964a52075ea1ee3                0.0"
      ]
     },
     "execution_count": 7,
     "metadata": {},
     "output_type": "execute_result"
    }
   ],
   "source": [
    "users = df2\n",
    "users['userId'] = users[\"userId\"].astype(\"str\")\n",
    "users[\"venueId\"] = users[\"venueId\"].astype(\"str\")\n",
    "users[\"user_checkin_count\"] = users[\"user_checkin_count\"].astype(\"str\")\n",
    "users.head(5)"
   ]
  },
  {
   "cell_type": "code",
   "execution_count": 31,
   "id": "c37c544d",
   "metadata": {},
   "outputs": [],
   "source": [
    "unique_user_ids = users[\"userId\"].unique()\n",
    "unique_user_ids_df = pd.DataFrame({'userId': unique_user_ids})\n",
    "\n",
    "unique_user_ids_tensor = tf.data.Dataset.from_tensor_slices(dict(unique_user_ids_df))"
   ]
  },
  {
   "cell_type": "code",
   "execution_count": 32,
   "id": "7a792826",
   "metadata": {},
   "outputs": [],
   "source": [
    "unique_venue_ids = data[\"venueId\"].unique()\n",
    "unique_venue_ids_df = pd.DataFrame({'venueId': unique_venue_ids})\n",
    "\n",
    "unique_venue_ids_tensor = tf.data.Dataset.from_tensor_slices(dict(unique_venue_ids_df))"
   ]
  },
  {
   "cell_type": "code",
   "execution_count": 33,
   "id": "5924c594",
   "metadata": {},
   "outputs": [
    {
     "data": {
      "text/plain": [
       "<TensorSliceDataset element_spec={'userId': TensorSpec(shape=(), dtype=tf.string, name=None), 'venueId': TensorSpec(shape=(), dtype=tf.string, name=None), 'user_checkin_count': TensorSpec(shape=(), dtype=tf.string, name=None)}>"
      ]
     },
     "execution_count": 33,
     "metadata": {},
     "output_type": "execute_result"
    }
   ],
   "source": [
    "ratings = tf.data.Dataset.from_tensor_slices(dict(users))\n",
    "ratings"
   ]
  },
  {
   "cell_type": "code",
   "execution_count": 34,
   "id": "b4450016",
   "metadata": {},
   "outputs": [
    {
     "name": "stdout",
     "output_type": "stream",
     "text": [
      "{'userId': b'1',\n",
      " 'user_checkin_count': b'0.0',\n",
      " 'venueId': b'3fd66200f964a52035e81ee3'}\n"
     ]
    }
   ],
   "source": [
    "for x in ratings.take(1).as_numpy_iterator():\n",
    "    pprint.pprint(x)"
   ]
  },
  {
   "cell_type": "code",
   "execution_count": 43,
   "id": "1e810d6c",
   "metadata": {},
   "outputs": [
    {
     "name": "stdout",
     "output_type": "stream",
     "text": [
      "{'venueId': b'49bbd6c0f964a520f4531fe3'}\n"
     ]
    }
   ],
   "source": [
    "venues_df = data[[\"venueId\"]]\n",
    "# venues[\"venueId\"] = venues[\"venueId\"].astype(\"str\")\n",
    "\n",
    "venues_tensor = tf.data.Dataset.from_tensor_slices(dict(venues_df))\n",
    "for x in venues_tensor.take(1).as_numpy_iterator():\n",
    "    pprint.pprint(x)"
   ]
  },
  {
   "cell_type": "code",
   "execution_count": 49,
   "id": "b488fa9b",
   "metadata": {},
   "outputs": [],
   "source": [
    "ratings = ratings.map(lambda x: {\n",
    "    \"userId\": x[\"userId\"],\n",
    "    \"venueId\": x[\"venueId\"],\n",
    "    \"user_checkin_count\": x[\"user_checkin_count\"]\n",
    "})\n",
    "venues = venues_tensor.map(lambda x: x[\"venueId\"])"
   ]
  },
  {
   "cell_type": "code",
   "execution_count": 36,
   "id": "7d23a2af",
   "metadata": {},
   "outputs": [],
   "source": [
    "# let's use a random split, putting 75% of the ratings in the train set, and 25% in the test set:\n",
    "# Assign a seed=42 for consistency of results and reproducibility:\n",
    "seed = 42\n",
    "l = len(ratings)\n",
    "\n",
    "tf.random.set_seed(seed)\n",
    "shuffled = ratings.shuffle(l, seed=seed, reshuffle_each_iteration=False)\n",
    "\n",
    "#Save 75% of the data for training and 25% for testing:\n",
    "train_ = int(0.75 * l)\n",
    "test_ = int(0.25 * l)\n",
    "\n",
    "train = shuffled.take(train_)\n",
    "test = shuffled.skip(train_).take(test_)"
   ]
  },
  {
   "cell_type": "code",
   "execution_count": 37,
   "id": "01b765e4",
   "metadata": {},
   "outputs": [],
   "source": [
    "embedding_dimension = 32"
   ]
  },
  {
   "cell_type": "code",
   "execution_count": 38,
   "id": "fae0ccb5",
   "metadata": {},
   "outputs": [],
   "source": [
    "user_model = tf.keras.Sequential([\n",
    "  tf.keras.layers.StringLookup(\n",
    "      vocabulary=unique_user_ids, mask_token=None),\n",
    "  # We add an additional embedding to account for unknown tokens.\n",
    "  tf.keras.layers.Embedding(len(unique_user_ids) + 1, embedding_dimension)\n",
    "])"
   ]
  },
  {
   "cell_type": "code",
   "execution_count": 40,
   "id": "256b6709",
   "metadata": {},
   "outputs": [],
   "source": [
    "venue_model = tf.keras.Sequential([\n",
    "  tf.keras.layers.StringLookup(\n",
    "      vocabulary=unique_venue_ids, mask_token=None),\n",
    "  tf.keras.layers.Embedding(len(unique_venue_ids) + 1, embedding_dimension)\n",
    "])"
   ]
  },
  {
   "cell_type": "raw",
   "id": "ca808827",
   "metadata": {},
   "source": [
    "#let's wrap the **pandas dataframe** into **tf.data.Dataset** object using **tf.data.Dataset.from_tensor_slices** using: tf.data.Dataset.from_tensor_slices\n",
    "ratings = tf.data.Dataset.from_tensor_slices(dict(ratings))\n",
    "movies = tf.data.Dataset.from_tensor_slices(dict(movies))\n"
   ]
  },
  {
   "cell_type": "code",
   "execution_count": 47,
   "id": "a9dec71d",
   "metadata": {},
   "outputs": [
    {
     "data": {
      "text/plain": [
       "tensorflow.python.data.ops.dataset_ops.TensorSliceDataset"
      ]
     },
     "execution_count": 47,
     "metadata": {},
     "output_type": "execute_result"
    }
   ],
   "source": [
    "type(venues_tensor)"
   ]
  },
  {
   "cell_type": "code",
   "execution_count": 50,
   "id": "f580e218",
   "metadata": {},
   "outputs": [],
   "source": [
    "metrics = tfrs.metrics.FactorizedTopK(\n",
    "  candidates=venues.batch(128).map(venue_model)\n",
    ")"
   ]
  },
  {
   "cell_type": "code",
   "execution_count": 51,
   "id": "df6b7efb",
   "metadata": {},
   "outputs": [],
   "source": [
    "task = tfrs.tasks.Retrieval(\n",
    "  metrics=metrics\n",
    ")"
   ]
  },
  {
   "cell_type": "code",
   "execution_count": 59,
   "id": "8ea1a227",
   "metadata": {},
   "outputs": [],
   "source": [
    "class VenueRecoModel(tfrs.Model):\n",
    "\n",
    "    def __init__(self, user_model, venue_model):\n",
    "        super().__init__()\n",
    "        self.venue_model: tf.keras.Model = venue_model\n",
    "        self.user_model: tf.keras.Model = user_model\n",
    "        self.task: tf.keras.layers.Layer = task\n",
    "\n",
    "    def compute_loss(self, features: Dict[Text, tf.Tensor], training=False) -> tf.Tensor:\n",
    "        # We pick out the user features and pass them into the user model.\n",
    "        user_embeddings = self.user_model(features[\"userId\"])\n",
    "        # And pick out the movie features and pass them into the movie model,\n",
    "        # getting embeddings back.\n",
    "        positive_venue_embeddings = self.venue_model(features[\"venueId\"])\n",
    "\n",
    "        # The task computes the loss and the metrics.\n",
    "        return self.task(user_embeddings, positive_venue_embeddings)"
   ]
  },
  {
   "cell_type": "code",
   "execution_count": 60,
   "id": "87dbcd57",
   "metadata": {},
   "outputs": [],
   "source": [
    "model = VenueRecoModel(user_model, venue_model)\n",
    "model.compile(optimizer=tf.keras.optimizers.Adagrad(learning_rate=0.1))"
   ]
  },
  {
   "cell_type": "code",
   "execution_count": 63,
   "id": "319e5e7e",
   "metadata": {},
   "outputs": [],
   "source": [
    "cached_train = train.shuffle(1).batch(8192).cache()\n",
    "cached_test = test.batch(2048).cache()"
   ]
  },
  {
   "cell_type": "code",
   "execution_count": 64,
   "id": "ad057aa2",
   "metadata": {},
   "outputs": [
    {
     "name": "stdout",
     "output_type": "stream",
     "text": [
      "Epoch 1/3\n",
      "9/9 [==============================] - 200s 22s/step - factorized_top_k/top_1_categorical_accuracy: 3.5156e-04 - factorized_top_k/top_5_categorical_accuracy: 5.8593e-04 - factorized_top_k/top_10_categorical_accuracy: 8.7889e-04 - factorized_top_k/top_50_categorical_accuracy: 0.0060 - factorized_top_k/top_100_categorical_accuracy: 0.0135 - loss: 55630.8730 - regularization_loss: 0.0000e+00 - total_loss: 55630.8730\n",
      "Epoch 2/3\n",
      "9/9 [==============================] - 207s 23s/step - factorized_top_k/top_1_categorical_accuracy: 3.3691e-04 - factorized_top_k/top_5_categorical_accuracy: 9.6678e-04 - factorized_top_k/top_10_categorical_accuracy: 0.0022 - factorized_top_k/top_50_categorical_accuracy: 0.0142 - factorized_top_k/top_100_categorical_accuracy: 0.0346 - loss: 48369.8465 - regularization_loss: 0.0000e+00 - total_loss: 48369.8465\n",
      "Epoch 3/3\n",
      "9/9 [==============================] - 209s 23s/step - factorized_top_k/top_1_categorical_accuracy: 2.4902e-04 - factorized_top_k/top_5_categorical_accuracy: 0.0011 - factorized_top_k/top_10_categorical_accuracy: 0.0028 - factorized_top_k/top_50_categorical_accuracy: 0.0289 - factorized_top_k/top_100_categorical_accuracy: 0.0965 - loss: 41799.5625 - regularization_loss: 0.0000e+00 - total_loss: 41799.5625\n"
     ]
    },
    {
     "data": {
      "text/plain": [
       "<keras.callbacks.History at 0x290d8b280>"
      ]
     },
     "execution_count": 64,
     "metadata": {},
     "output_type": "execute_result"
    }
   ],
   "source": [
    "model.fit(cached_train, epochs=3)"
   ]
  },
  {
   "cell_type": "code",
   "execution_count": 65,
   "id": "30d7e2ca",
   "metadata": {},
   "outputs": [
    {
     "name": "stdout",
     "output_type": "stream",
     "text": [
      "12/12 [==============================] - 74s 6s/step - factorized_top_k/top_1_categorical_accuracy: 0.0000e+00 - factorized_top_k/top_5_categorical_accuracy: 0.0000e+00 - factorized_top_k/top_10_categorical_accuracy: 0.0000e+00 - factorized_top_k/top_50_categorical_accuracy: 4.3944e-05 - factorized_top_k/top_100_categorical_accuracy: 2.6367e-04 - loss: 14210.4988 - regularization_loss: 0.0000e+00 - total_loss: 14210.4988\n"
     ]
    },
    {
     "data": {
      "text/plain": [
       "{'factorized_top_k/top_1_categorical_accuracy': 0.0,\n",
       " 'factorized_top_k/top_5_categorical_accuracy': 0.0,\n",
       " 'factorized_top_k/top_10_categorical_accuracy': 0.0,\n",
       " 'factorized_top_k/top_50_categorical_accuracy': 4.3944455683231354e-05,\n",
       " 'factorized_top_k/top_100_categorical_accuracy': 0.0002636667340993881,\n",
       " 'loss': 1319.135986328125,\n",
       " 'regularization_loss': 0,\n",
       " 'total_loss': 1319.135986328125}"
      ]
     },
     "execution_count": 65,
     "metadata": {},
     "output_type": "execute_result"
    }
   ],
   "source": [
    "model.evaluate(cached_test, return_dict=True)"
   ]
  },
  {
   "cell_type": "code",
   "execution_count": 67,
   "id": "20cd292a",
   "metadata": {},
   "outputs": [
    {
     "data": {
      "text/plain": [
       "<tensorflow_recommenders.layers.factorized_top_k.BruteForce at 0x29ad22080>"
      ]
     },
     "execution_count": 67,
     "metadata": {},
     "output_type": "execute_result"
    }
   ],
   "source": [
    "# Create a model that takes in raw query features, and\n",
    "index = tfrs.layers.factorized_top_k.BruteForce(model.user_model)\n",
    "# recommends movies out of the entire movies dataset.\n",
    "# recommends movies out of the entire movies dataset.\n",
    "index.index(venues.batch(100).map(model.venue_model), venues)\n",
    "\n"
   ]
  },
  {
   "cell_type": "code",
   "execution_count": 68,
   "id": "7d33d84c",
   "metadata": {},
   "outputs": [
    {
     "name": "stdout",
     "output_type": "stream",
     "text": [
      "Recommendations for user 42: [b'4cd5fe292944b1f744a760ec' b'4e32a78cae60f21828d63591'\n",
      " b'50097824e4b038aa5007646e' b'4bb3e6e3643cd13a3c27395c'\n",
      " b'4bfc2271e05e0f47043fcfa8']\n"
     ]
    }
   ],
   "source": [
    "# Get recommendations.\n",
    "_, venues = index(tf.constant([\"42\"]))\n",
    "print(f\"Recommendations for user 42: {venues[0, :5]}\")\n"
   ]
  },
  {
   "cell_type": "code",
   "execution_count": null,
   "id": "6db76daa",
   "metadata": {},
   "outputs": [],
   "source": []
  }
 ],
 "metadata": {
  "kernelspec": {
   "display_name": "Python 3 (ipykernel)",
   "language": "python",
   "name": "python3"
  },
  "language_info": {
   "codemirror_mode": {
    "name": "ipython",
    "version": 3
   },
   "file_extension": ".py",
   "mimetype": "text/x-python",
   "name": "python",
   "nbconvert_exporter": "python",
   "pygments_lexer": "ipython3",
   "version": "3.10.6"
  }
 },
 "nbformat": 4,
 "nbformat_minor": 5
}
